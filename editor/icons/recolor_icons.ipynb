{
 "cells": [
  {
   "cell_type": "code",
   "execution_count": null,
   "metadata": {},
   "outputs": [],
   "source": []
  },
  {
   "cell_type": "code",
   "execution_count": 1,
   "metadata": {},
   "outputs": [
    {
     "name": "stderr",
     "output_type": "stream",
     "text": [
      "C:\\Python310\\lib\\site-packages\\drawSvg\\raster.py:18: RuntimeWarning: Failed to import CairoSVG. drawSvg will be unable to output PNG or other raster image formats. See https://github.com/cduck/drawSvg#prerequisites for more details.\n",
      "Original OSError: no library called \"cairo-2\" was found\n",
      "no library called \"cairo\" was found\n",
      "no library called \"libcairo-2\" was found\n",
      "cannot load library 'libcairo.so.2': error 0x7e\n",
      "cannot load library 'libcairo.2.dylib': error 0x7e\n",
      "cannot load library 'libcairo-2.dll': error 0x7e\n",
      "  warnings.warn(msg, RuntimeWarning)\n"
     ]
    }
   ],
   "source": [
    "from bs4 import BeautifulSoup\n",
    "import os\n",
    "import svglib as svg\n",
    "import drawSvg as draw\n",
    "from IPython.core.display import SVG\n",
    "import ipyplot"
   ]
  },
  {
   "cell_type": "code",
   "execution_count": 2,
   "metadata": {},
   "outputs": [],
   "source": [
    "ICON_DIRECTORY = r'D:\\Files\\GameDev\\qaptoR Eingen\\godot\\editor\\icons'\n",
    "\n",
    "icon_files = []\n",
    "icons = {}\n",
    "colors = set()\n",
    "icon_groups = {}\n"
   ]
  },
  {
   "cell_type": "code",
   "execution_count": 3,
   "metadata": {},
   "outputs": [],
   "source": [
    "def draw_color (color :str):\n",
    "\td = draw.Drawing(32, 16, origin=(0, 0), displayInline=True)\n",
    "\td.append(draw.Rectangle(0, 0, 32, 16, fill=color))\n",
    "\td.setPixelScale(2)\n",
    "\treturn d\n",
    "#...\n",
    "\n",
    "\n",
    "def draw_colors (colors :list):\n",
    "\td = draw.Drawing(32*len(colors), 16, origin=(0, 0), displayInline=True)\n",
    "\tfor i in range(len(colors)):\n",
    "\t\td.append(draw.Rectangle(32*i, 0, 32, 16, fill=colors[i]))\n",
    "\t#...\n",
    "\td.setPixelScale(2)\n",
    "\t\n",
    "\treturn d\n",
    "#...\n",
    "\n",
    "\n",
    "def draw_icons (colors :list):\n",
    "\tsmall_group = []\n",
    "\ttset = set()\n",
    "\tfor color in colors: \n",
    "\t\tfor icon in list(icon_groups[color]): tset.add(icon)\n",
    "\t#...\n",
    "\tfor icon in tset: small_group.append(icon)\n",
    "\treturn ipyplot.plot_images(small_group, small_group, img_width=64, show_url=False, max_images=285)\n",
    "#...\n",
    "\n",
    "\n",
    "def visualize (colors :list):\n",
    "\n",
    "\tprint(sum([len(icon_groups[color]) for color in colors]), len(colors), colors)\n",
    "\tdraw_icons(colors)\n",
    "\treturn draw_colors(colors)\n",
    "#...\n",
    "\n",
    "\n",
    "def swap_colors (colors_ :list, new_: str):\n",
    "\ttotal = sum([len(icon_groups[color]) for color in colors_])\n",
    "\tcount = 0\n",
    "\tfor color in colors_:\n",
    "\t\tfor icon in icon_groups[color]:\n",
    "\t\t\tsvg_text = ''\n",
    "\t\t\twith open(icon, 'r') as file:\n",
    "\t\t\t\tsvg_text = file.read().replace(color, new_)\n",
    "\t\t\t#...\n",
    "\t\t\twith open(icon, 'w') as file:\n",
    "\t\t\t\tfile.write(svg_text)\n",
    "\t\t\t#...\n",
    "\t\t\tcount += 1\n",
    "\t\t#...\n",
    "\t#...\n",
    "\tprint(f'{count} of {total} swapped')\n",
    "#...\n",
    "\n",
    "\n",
    "def swap_file_colors(files_ :list, old_ :str, new_ :str):\n",
    "\tcount = 0\n",
    "\t\n",
    "\tfor icon in files_:\n",
    "\t\tsvg_text = ''\n",
    "\t\twith open(icon, 'r') as file:\n",
    "\t\t\tsvg_text = file.read().replace(old_, new_)\n",
    "\t\t#...\n",
    "\t\twith open(icon, 'w') as file:\n",
    "\t\t\tfile.write(svg_text)\n",
    "\t\t#...\n",
    "\t\tcount += 1\n",
    "\t#...\n",
    "\tprint(f'{count} of {len(files_)} swapped')\n",
    "#...\n",
    "\n",
    "\n",
    "def swap_gradients (files_ :list, news_ :list):\n",
    "\tcount = 0\n",
    "\tfor icon in files_:\n",
    "\t\tsvg_text = ''\n",
    "\t\tstops = []\n",
    "\t\twith open(icon, 'r') as file:\n",
    "\t\t\tsoup = BeautifulSoup(file, 'html.parser')\n",
    "\t\t\tstops = soup.select('stop')\n",
    "\t\t#...\n",
    "\t\t# print(stops)\n",
    "\t\twith open(icon, 'r') as file:\n",
    "\t\t\tsvg_text = file.read()\n",
    "\t\t\tfor i in range(len(stops)):\n",
    "\t\t\t\tsvg_text = svg_text.replace(stops[i].get('stop-color', 'NONE'), news_[i])\n",
    "\t\t\t#...\n",
    "\t\t#...\n",
    "\n",
    "\t\twith open(icon, 'w') as file:\n",
    "\t\t\tfile.write(svg_text)\n",
    "\t\t#...\n",
    "\n",
    "\t\tcount += 1\n",
    "\t#...\n",
    "\tprint(f'{count} of {len(files_)} swapped')\n",
    "#...\n",
    "\n"
   ]
  },
  {
   "cell_type": "code",
   "execution_count": 4,
   "metadata": {},
   "outputs": [],
   "source": [
    "for file in os.listdir(ICON_DIRECTORY):\n",
    "\tif file.endswith('.svg'): icon_files.append(file)\n",
    "\t# else: print(file)\n",
    "#..."
   ]
  },
  {
   "cell_type": "code",
   "execution_count": 5,
   "metadata": {},
   "outputs": [],
   "source": [
    "## clean up svg original python code\n",
    "comment = [\n",
    "# tempcount = 0\n",
    "# for file in icon_files:\n",
    "# # for k in range(1):\n",
    "# # \tfile = icon_files[k+1]\n",
    "# \ttext = ''\n",
    "# \twith open(file, 'r') as icon:\n",
    "# \t\ttext = icon.read()\n",
    "# \t#...\n",
    "\n",
    "# \tremove_list = []\n",
    "# \tq = []\n",
    "# \tlast_space = False\n",
    "\n",
    "# \tfor i in range(len(text)):\n",
    "# \t\tc = text[i]\n",
    "\n",
    "# \t\tif len(q) == 0 and c.isspace():\n",
    "# \t\t\tremove_list.append(i)\n",
    "# \t\t\t# print('#', end='')\n",
    "# \t\t\tcontinue\n",
    "\n",
    "# \t\telif len(q) == 0 and c == '<': \n",
    "# \t\t\tq.append('tag')\n",
    "# \t\t\t# print('<', end='')\n",
    "# \t\t\tcontinue\n",
    "\n",
    "# \t\telif len(q) == 1 and c == '\"':\n",
    "# \t\t\tq.append('string')\n",
    "# \t\t\tcontinue\n",
    "\n",
    "# \t\telif len(q) == 1 and c == '>':\n",
    "# \t\t\t# print('>', end='')\n",
    "# \t\t\tq.pop()\n",
    "# \t\t\tcontinue\n",
    "\n",
    "# \t\telif len(q) == 1 and c.isspace():\n",
    "# \t\t\tif last_space: remove_list.append(i)\n",
    "# \t\t\telse: last_space = True\n",
    "# \t\t\tcontinue\n",
    "\n",
    "# \t\telif len(q) == 1 and not c.isspace():\n",
    "# \t\t\tlast_space = False\n",
    "# \t\t\tcontinue\n",
    "\n",
    "# \t\telif len(q) == 2 and c != '\"':\n",
    "# \t\t\tcontinue\n",
    "\n",
    "# \t\telif len(q) == 2 and c == '\"':\n",
    "\n",
    "# \t\t\tq.pop()\n",
    "# \t\t\tcontinue\n",
    "# \t\t#...\n",
    "# \t#...\n",
    "\n",
    "# \tremove_list.reverse()\n",
    "# \tfor i in remove_list:\n",
    "# \t\ttext = text[:i] + text[i+1:]\n",
    "\n",
    "# \twith open(file, 'w') as icon:\n",
    "# \t\ticon.write(text)\n",
    "# \t#...\n",
    "# \ttempcount += 1\n",
    "# #...\n",
    "\n",
    "# print(tempcount)\n",
    "]"
   ]
  },
  {
   "cell_type": "code",
   "execution_count": 6,
   "metadata": {},
   "outputs": [
    {
     "name": "stderr",
     "output_type": "stream",
     "text": [
      "C:\\Python310\\lib\\site-packages\\bs4\\builder\\__init__.py:545: XMLParsedAsHTMLWarning: It looks like you're parsing an XML document using an HTML parser. If this really is an HTML document (maybe it's XHTML?), you can ignore or filter this warning. If it's XML, you should know that using an XML parser will be more reliable. To parse this document as XML, make sure you have the lxml package installed, and pass the keyword argument `features=\"xml\"` into the BeautifulSoup constructor.\n",
      "  warnings.warn(\n"
     ]
    }
   ],
   "source": [
    "for file in icon_files:\n",
    "\t\n",
    "\twith open(file, 'r') as svg:\n",
    "\n",
    "\t\tsoup = BeautifulSoup(svg, 'html.parser')\n",
    "\n",
    "\t\tgroups = soup.select('g')\n",
    "\t\tpaths = soup.select('path') \n",
    "\n",
    "\t\tfor group in groups:\n",
    "\t\t\tcolor = group.get('fill', 'None')\n",
    "\t\t\tif not color in icon_groups: icon_groups.update({color:set()})\n",
    "\t\t\ticon_groups[color].add(file)\n",
    "\t\tfor path in paths: \n",
    "\t\t\tcolor = path.get('fill', 'None')\n",
    "\t\t\tif not color in icon_groups: icon_groups.update({color:set()})\n",
    "\t\t\ticon_groups[color].add(file)\n",
    "\t#...\n",
    "#..."
   ]
  },
  {
   "cell_type": "markdown",
   "metadata": {},
   "source": [
    "# Swap Completed\n"
   ]
  },
  {
   "cell_type": "code",
   "execution_count": 54,
   "metadata": {},
   "outputs": [],
   "source": [
    "colors = [ # editor icons\n",
    "\t# '#e0e0e0' ## old\n",
    "\t'#d3af86' ## new\n",
    "]\n",
    "# visualize(colors)"
   ]
  },
  {
   "cell_type": "code",
   "execution_count": 8,
   "metadata": {},
   "outputs": [],
   "source": [
    "colors = [ # Control nodes\n",
    "\t# '#a5efac' ## old\n",
    "\t'#739b36'   ## new \n",
    "]\n",
    "# visualize(colors)"
   ]
  },
  {
   "cell_type": "code",
   "execution_count": 9,
   "metadata": {},
   "outputs": [],
   "source": [
    "colors = [ # 2D nodes\n",
    "\t# '#a5b7f3' ## old\n",
    "\t'#3e8fb0' ## new\n",
    "]\n",
    "# visualize(colors)"
   ]
  },
  {
   "cell_type": "code",
   "execution_count": 1,
   "metadata": {},
   "outputs": [],
   "source": [
    "colors = [ # 3D nodes\n",
    "\t# '#fc9c9c' ## old\n",
    "\t'#b94343' ## new\n",
    "]\n",
    "# visualize(colors)"
   ]
  },
  {
   "cell_type": "code",
   "execution_count": 2,
   "metadata": {},
   "outputs": [],
   "source": [
    "colors = [ # RGB: RED\n",
    "\t# '#ff8484' ## old\n",
    "\t'#AC2A2A' ## new\n",
    "]\n",
    "# visualize(colors)"
   ]
  },
  {
   "cell_type": "code",
   "execution_count": 12,
   "metadata": {},
   "outputs": [],
   "source": [
    "colors = [ # RGB: GREEN\n",
    "\t# '#84ffb1' ## old\n",
    "\t'#6B9030' ## new\n",
    "]\n",
    "# visualize(colors)"
   ]
  },
  {
   "cell_type": "code",
   "execution_count": 13,
   "metadata": {},
   "outputs": [],
   "source": [
    "colors = [ # RGB: BLUE\n",
    "\t# '#84c2ff' ## old\n",
    "\t'#3087A6' ## new\n",
    "]\n",
    "# visualize(colors)"
   ]
  },
  {
   "cell_type": "code",
   "execution_count": 14,
   "metadata": {},
   "outputs": [],
   "source": [
    "colors = [ # RAINBOW: RED\n",
    "\t# '#ff7070', '#ff4545', ## old\n",
    "\t'#b94343' ## new\n",
    " ]\n",
    "# visualize(colors)"
   ]
  },
  {
   "cell_type": "code",
   "execution_count": 15,
   "metadata": {},
   "outputs": [],
   "source": [
    "colors = [ # RAINBOW ICONS: YELLOW\n",
    "\t# '#ffeb70', '#ffe345', ## old\n",
    "\t'#b9a243' ## new\n",
    "]\n",
    "# visualize(colors)"
   ]
  },
  {
   "cell_type": "code",
   "execution_count": 16,
   "metadata": {},
   "outputs": [],
   "source": [
    "colors = [ # RAINBOW ICONS: GREEN\n",
    "\t# '#9dff70', '#80ff45', ## old\n",
    "\t'#7b9b4a' ## new\n",
    "]\n",
    "# visualize(colors)"
   ]
  },
  {
   "cell_type": "code",
   "execution_count": 17,
   "metadata": {},
   "outputs": [],
   "source": [
    "colors = [ # RAINBOW ICONS: TEAL\n",
    "\t# '#70ffb9', '#45ffa2', ## old\n",
    "\t'#43b99e' ## new\n",
    "]\n",
    "# visualize(colors)"
   ]
  },
  {
   "cell_type": "code",
   "execution_count": 18,
   "metadata": {},
   "outputs": [],
   "source": [
    "colors = [ # RAINBOW ICONS: BLUE\n",
    "\t# '#70deff', '#45d7ff', ## old\n",
    "\t'#4b93b0' ## new\n",
    "]\n",
    "# visualize(colors)"
   ]
  },
  {
   "cell_type": "code",
   "execution_count": 19,
   "metadata": {},
   "outputs": [],
   "source": [
    "colors = [ # RAINBOW ICONS: PURPLE\n",
    "\t# '#9f70ff', '#8045ff', ## old\n",
    "\t'#9643b9' ## new\n",
    "]\n",
    "# visualize(colors)"
   ]
  },
  {
   "cell_type": "code",
   "execution_count": 20,
   "metadata": {},
   "outputs": [],
   "source": [
    "colors = [ # RAINBOW ICONS: PINK\n",
    "\t# '#ff70ac', '#ff4596', ## old\n",
    "\t'#b94397' ## new\n",
    "]\n",
    "# visualize(colors)"
   ]
  },
  {
   "cell_type": "code",
   "execution_count": 21,
   "metadata": {},
   "outputs": [],
   "source": [
    "colors = [ # Editor Basic Shadow\n",
    "\t# '#b4b4b4', ## old SHOULD NOT BE GIZMO\n",
    "\t'#C4925C' ## new\n",
    "]\n",
    "# visualize(colors)"
   ]
  },
  {
   "cell_type": "code",
   "execution_count": 22,
   "metadata": {},
   "outputs": [],
   "source": [
    "colors = [ # RGB BLUE\n",
    "\t# '#70bfff', ## old RAINBOW RED: RGB SET: BLUE\n",
    "\t'#3087A6' ## new\n",
    "]\n",
    "# visualize(colors)"
   ]
  },
  {
   "cell_type": "code",
   "execution_count": 23,
   "metadata": {},
   "outputs": [],
   "source": [
    "colors = [ # RGB Green\n",
    "\t# '#7aff70' ## old RAINBOW RED: RGB SET: GREEN\n",
    "\t'#6B9030' ## new\n",
    "]\n",
    "# visualize(colors)"
   ]
  },
  {
   "cell_type": "code",
   "execution_count": 24,
   "metadata": {},
   "outputs": [],
   "source": [
    "colors = [ # CURVE ICONS: Editor basic\n",
    "\t# '#f5f5f5' ## old LIGHT GREY\n",
    "\t'#d3af86' ## new\n",
    "]\n",
    "# visualize(colors)"
   ]
  },
  {
   "cell_type": "code",
   "execution_count": 25,
   "metadata": {},
   "outputs": [],
   "source": [
    "colors = [ # NOW 2D / RGB BLUE\n",
    "\t# '#a3b6f3', '#708cea', '#69f', '#3552b1', ## old SHOULD BE 2D\n",
    "\t'#3087A6' ## new\n",
    "]\n",
    "# visualize(colors)"
   ]
  },
  {
   "cell_type": "code",
   "execution_count": 26,
   "metadata": {},
   "outputs": [],
   "source": [
    "colors = [ # GUI INTERACTION SELCTION TOGGLES\n",
    "\t# '#699ce8', ## old\n",
    "\t'#3087A6' ## new\n",
    "]\n",
    "# visualize(colors)"
   ]
  },
  {
   "cell_type": "code",
   "execution_count": 27,
   "metadata": {},
   "outputs": [],
   "source": [
    "colors = [ # DEBUG RED\n",
    "\t# '#ff8585', ## old\n",
    "\t'#dc3958' ## new\n",
    "]\n",
    "# visualize(colors)"
   ]
  },
  {
   "cell_type": "code",
   "execution_count": 28,
   "metadata": {},
   "outputs": [],
   "source": [
    "colors = [ # mesh resources\n",
    "\t# '#ffd684' ## old\n",
    "\t'#e99a32' ## new\n",
    "]\n",
    "# visualize(colors)"
   ]
  },
  {
   "cell_type": "code",
   "execution_count": 29,
   "metadata": {},
   "outputs": [],
   "source": [
    "colors = [ # animation nodes\n",
    "\t# '#cea4f1' ## old\n",
    "\t'#b94397' ## new\n",
    "]\n",
    "# visualize(colors)"
   ]
  },
  {
   "cell_type": "code",
   "execution_count": 30,
   "metadata": {},
   "outputs": [],
   "source": [
    "colors = [ # because using gradients?\n",
    "\t'url(#a)'\n",
    "]\n",
    "\n",
    "comment = [ \n",
    "# # tfiles_asp = [ \n",
    "# \t'icon_audio_stream_sample.svg',\n",
    "# \t'icon_audio_stream_m_p3.svg',\n",
    "# \t'icon_audio_stream_o_g_g_vorbis.svg',\n",
    "# \t'icon_audio_stream_player_3_d.svg',\n",
    "# \t'icon_audio_stream_player_2_d.svg',\n",
    "# \t'icon_audio_stream_player.svg',\n",
    "# ]\n",
    "# asp_colors = ['#b95d5d', '#b9a75d', '#7b9b4a']\n",
    "# swap_gradients(tfiles_asp, asp_colors)\n",
    "]\n",
    "\n",
    "visualize(colors)\n"
   ]
  },
  {
   "cell_type": "code",
   "execution_count": 31,
   "metadata": {},
   "outputs": [],
   "source": [
    "colors = [ # ERROR: RED, WARNING: YELLOW\n",
    "\t# '#ff5d5d', ## old red\n",
    "\t# '#ffdd65', ## old yellow\n",
    "\t'#B92525', ## new red\n",
    "\t'#B99C25' ## new yellow\n",
    "]\n",
    "# visualize(colors)"
   ]
  },
  {
   "cell_type": "markdown",
   "metadata": {},
   "source": [
    "# Swap INCOMPLETE"
   ]
  },
  {
   "cell_type": "code",
   "execution_count": 32,
   "metadata": {},
   "outputs": [],
   "source": [
    "colors = [ # COLLISION SHAPE BLUE :DARK\n",
    "\t'#2998ff'\n",
    "]\n",
    "# visualize(colors)"
   ]
  },
  {
   "cell_type": "code",
   "execution_count": 33,
   "metadata": {},
   "outputs": [],
   "source": [
    "colors = [ # COLLISION SHAPE BLUE :MED\n",
    "\t'#68b6ff'\n",
    "]\n",
    "# visualize(colors)"
   ]
  },
  {
   "cell_type": "code",
   "execution_count": 34,
   "metadata": {},
   "outputs": [],
   "source": [
    "colors = [ # COLLISION SHAPE BLUE :LIGHT\n",
    "\t'#a2d2ff'\n",
    "]\n",
    "# visualize(colors)"
   ]
  },
  {
   "cell_type": "code",
   "execution_count": 35,
   "metadata": {},
   "outputs": [],
   "source": [
    "colors = [ # GIZMO ICONS: BONE\n",
    "\t'#f7f5cf'\n",
    "]\n",
    "# visualize(colors)"
   ]
  },
  {
   "cell_type": "code",
   "execution_count": 36,
   "metadata": {},
   "outputs": [],
   "source": [
    "colors = [ # TRANSITION: GREEN\n",
    "\t'#77ce57'\n",
    "]\n",
    "# visualize(colors)"
   ]
  },
  {
   "cell_type": "code",
   "execution_count": 37,
   "metadata": {},
   "outputs": [],
   "source": [
    "colors = [ # ADD ___ TILE\n",
    "\t'#4490fc', '#c9cfd4', '#fce844',\n",
    "]\n",
    "# visualize(colors)"
   ]
  },
  {
   "cell_type": "code",
   "execution_count": 38,
   "metadata": {},
   "outputs": [],
   "source": [
    "colors = [ # GODOT TM COLORS\n",
    "\t'#355570', '#478cbf', '#414042'\n",
    "]\n",
    "# visualize(colors)"
   ]
  },
  {
   "cell_type": "code",
   "execution_count": 39,
   "metadata": {},
   "outputs": [],
   "source": [
    "colors = [ # SHOULD BE EDITOR\n",
    "\t'#d9d9d9', '#d5d5d5', '#999', '#000003', '#f2f2f2', '#fefeff', '#4b4b4b', \n",
    "]\n",
    "# visualize(colors)"
   ]
  },
  {
   "cell_type": "markdown",
   "metadata": {},
   "source": [
    "# CONFUSING?"
   ]
  },
  {
   "cell_type": "code",
   "execution_count": 40,
   "metadata": {},
   "outputs": [],
   "source": [
    "colors = [ # probably show up in other groups\n",
    "\t'None'\n",
    "]\n",
    "# visualize(colors)"
   ]
  },
  {
   "cell_type": "code",
   "execution_count": 41,
   "metadata": {},
   "outputs": [],
   "source": [
    "colors = [ # probably show up in other groups\n",
    "\t'none'\n",
    "]\n",
    "# visualize(colors)"
   ]
  },
  {
   "cell_type": "markdown",
   "metadata": {},
   "source": [
    "# MAYBE NOT"
   ]
  },
  {
   "cell_type": "code",
   "execution_count": 42,
   "metadata": {},
   "outputs": [],
   "source": [
    "colors = [ # grey? WHITE??\n",
    "\t'#fff'\n",
    "]\n",
    "# visualize(colors)"
   ]
  },
  {
   "cell_type": "code",
   "execution_count": 43,
   "metadata": {},
   "outputs": [],
   "source": [
    "colors = [ # INFORMATION NOT WARNING\n",
    "\t'#ffb65d',\n",
    "]\n",
    "# visualize(colors)"
   ]
  },
  {
   "cell_type": "code",
   "execution_count": 44,
   "metadata": {},
   "outputs": [],
   "source": [
    "colors = [ # GIZMO ICONS: ASH WHITE\n",
    "\t'#fefefe'\n",
    "]\n",
    "# visualize(colors)"
   ]
  },
  {
   "cell_type": "code",
   "execution_count": 45,
   "metadata": {},
   "outputs": [],
   "source": [
    "colors = [ # DELETE SPLIT\n",
    "\t'#e9afaf', '#800000',\n",
    "]\n",
    "# visualize(colors)"
   ]
  },
  {
   "cell_type": "code",
   "execution_count": 46,
   "metadata": {},
   "outputs": [],
   "source": [
    "colors = [ # CONTROL: SCREEN ALIGNMENT :LIGHT GREY\n",
    "\t'#d6d6d6'\n",
    "]\n",
    "# visualize(colors)"
   ]
  },
  {
   "cell_type": "code",
   "execution_count": 47,
   "metadata": {},
   "outputs": [],
   "source": [
    "colors = [ # CONTROL: SCREEN ALIGNMENT :MED GREY\n",
    "\t'#919191'\n",
    "]\n",
    "# visualize(colors)"
   ]
  },
  {
   "cell_type": "code",
   "execution_count": 48,
   "metadata": {},
   "outputs": [],
   "source": [
    "colors = [ # CONTROL: SCREEN ALIGNMENT :DARK GREY\n",
    "\t'#474747'\n",
    "]\n",
    "# visualize(colors)"
   ]
  },
  {
   "cell_type": "markdown",
   "metadata": {},
   "source": [
    "# FOR LATER"
   ]
  },
  {
   "cell_type": "code",
   "execution_count": 49,
   "metadata": {},
   "outputs": [],
   "source": [
    "colors = [ # VISUAL NODE RGB\n",
    "\t'#ff4646', '#46ff46', '#4646ff', \n",
    "]\n",
    "# visualize(colors)"
   ]
  },
  {
   "cell_type": "code",
   "execution_count": 50,
   "metadata": {},
   "outputs": [],
   "source": [
    "colors = [ # LETTER ICONS\n",
    "\t'#ee7991', '#e3ec69', '#8da6f0', '#77edb1', '#61daf4', '#7dc6ef', '#79f3e8',\n",
    "\t'#6993ec', '#f77070', '#69ec9e', '#6ba7ec', '#bd91f1', '#e286f0', '#ec69a3',\n",
    "\t'#f191a5', '#69ec9a', '#f6a86e', '#c4ec69', '#69ecbd', '#6f91f0',\n",
    "]\n",
    "# visualize(colors)"
   ]
  },
  {
   "cell_type": "code",
   "execution_count": 51,
   "metadata": {},
   "outputs": [],
   "source": [
    "colors = [ # VISUAL SHADER COLORS\n",
    "\t'#eac968', '#68d0ea', '#ac73f1', '#35d4f4', '#cf68ea', '#eae068', '#ea686c', '#b8ea68', \n",
    "]\n",
    "# visualize(colors)"
   ]
  },
  {
   "cell_type": "code",
   "execution_count": 52,
   "metadata": {},
   "outputs": [],
   "source": [
    "colors = [ # \n",
    "\t'#',\n",
    "]\n",
    "# visualize(colors)"
   ]
  }
 ],
 "metadata": {
  "interpreter": {
   "hash": "2be5faf79681da6f2a61fdfdd5405d65d042280f7fba6178067603e3a2925119"
  },
  "kernelspec": {
   "display_name": "Python 3.10.4 64-bit",
   "language": "python",
   "name": "python3"
  },
  "language_info": {
   "codemirror_mode": {
    "name": "ipython",
    "version": 3
   },
   "file_extension": ".py",
   "mimetype": "text/x-python",
   "name": "python",
   "nbconvert_exporter": "python",
   "pygments_lexer": "ipython3",
   "version": "3.10.4"
  },
  "orig_nbformat": 4
 },
 "nbformat": 4,
 "nbformat_minor": 2
}
